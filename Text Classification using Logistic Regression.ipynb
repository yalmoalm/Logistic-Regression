{
 "cells": [
  {
   "cell_type": "markdown",
   "source": [
    "# Text Classification using Logistic Regression\n"
   ],
   "metadata": {
    "collapsed": false
   },
   "id": "7ea6298949da104a"
  },
  {
   "cell_type": "code",
   "execution_count": 110,
   "outputs": [],
   "source": [
    "import pandas as pd\n",
    "import numpy as np\n",
    "\n",
    "from sklearn.feature_extraction.text import CountVectorizer\n",
    "from sklearn.model_selection import train_test_split\n",
    "from sklearn.linear_model import LogisticRegression\n",
    "from sklearn.metrics import confusion_matrix \n",
    "from sklearn.metrics import classification_report\n",
    "\n",
    "import seaborn as sns\n",
    "import matplotlib.pyplot as plt"
   ],
   "metadata": {
    "collapsed": false,
    "ExecuteTime": {
     "end_time": "2024-02-14T19:47:21.230662800Z",
     "start_time": "2024-02-14T19:47:21.189667Z"
    }
   },
   "id": "initial_id"
  },
  {
   "cell_type": "markdown",
   "source": [
    " ##### read csv file"
   ],
   "metadata": {
    "collapsed": false
   },
   "id": "c17e7bdba892e6b0"
  },
  {
   "cell_type": "code",
   "execution_count": 111,
   "outputs": [],
   "source": [
    "df = pd.read_csv('training.1600000.processed.noemoticon.csv', # Reads a CSV file into a Pandas DataFrame.\n",
    "                 \n",
    "                 encoding='ISO-8859-1', # The encoding argument specifies the character encoding of the CSV file\n",
    "                 \n",
    "                 names=[ # The names argument allows you to specify column names for the DataFrame, rather than using the names from the CSV header.\n",
    "                     \n",
    "                        'target',\n",
    "                        'id',\n",
    "                        'date',\n",
    "                        'flag',\n",
    "                        'user',\n",
    "                        'text'\n",
    "                        ])"
   ],
   "metadata": {
    "collapsed": false,
    "ExecuteTime": {
     "end_time": "2024-02-14T19:47:28.240268800Z",
     "start_time": "2024-02-14T19:47:22.736047300Z"
    }
   },
   "id": "8fbb8709a4d30d28"
  },
  {
   "cell_type": "code",
   "execution_count": 112,
   "outputs": [
    {
     "data": {
      "text/plain": "   target          id                          date      flag  \\\n0       0  1467810369  Mon Apr 06 22:19:45 PDT 2009  NO_QUERY   \n1       0  1467810672  Mon Apr 06 22:19:49 PDT 2009  NO_QUERY   \n2       0  1467810917  Mon Apr 06 22:19:53 PDT 2009  NO_QUERY   \n3       0  1467811184  Mon Apr 06 22:19:57 PDT 2009  NO_QUERY   \n4       0  1467811193  Mon Apr 06 22:19:57 PDT 2009  NO_QUERY   \n\n              user                                               text  \n0  _TheSpecialOne_  @switchfoot http://twitpic.com/2y1zl - Awww, t...  \n1    scotthamilton  is upset that he can't update his Facebook by ...  \n2         mattycus  @Kenichan I dived many times for the ball. Man...  \n3          ElleCTF    my whole body feels itchy and like its on fire   \n4           Karoli  @nationwideclass no, it's not behaving at all....  ",
      "text/html": "<div>\n<style scoped>\n    .dataframe tbody tr th:only-of-type {\n        vertical-align: middle;\n    }\n\n    .dataframe tbody tr th {\n        vertical-align: top;\n    }\n\n    .dataframe thead th {\n        text-align: right;\n    }\n</style>\n<table border=\"1\" class=\"dataframe\">\n  <thead>\n    <tr style=\"text-align: right;\">\n      <th></th>\n      <th>target</th>\n      <th>id</th>\n      <th>date</th>\n      <th>flag</th>\n      <th>user</th>\n      <th>text</th>\n    </tr>\n  </thead>\n  <tbody>\n    <tr>\n      <th>0</th>\n      <td>0</td>\n      <td>1467810369</td>\n      <td>Mon Apr 06 22:19:45 PDT 2009</td>\n      <td>NO_QUERY</td>\n      <td>_TheSpecialOne_</td>\n      <td>@switchfoot http://twitpic.com/2y1zl - Awww, t...</td>\n    </tr>\n    <tr>\n      <th>1</th>\n      <td>0</td>\n      <td>1467810672</td>\n      <td>Mon Apr 06 22:19:49 PDT 2009</td>\n      <td>NO_QUERY</td>\n      <td>scotthamilton</td>\n      <td>is upset that he can't update his Facebook by ...</td>\n    </tr>\n    <tr>\n      <th>2</th>\n      <td>0</td>\n      <td>1467810917</td>\n      <td>Mon Apr 06 22:19:53 PDT 2009</td>\n      <td>NO_QUERY</td>\n      <td>mattycus</td>\n      <td>@Kenichan I dived many times for the ball. Man...</td>\n    </tr>\n    <tr>\n      <th>3</th>\n      <td>0</td>\n      <td>1467811184</td>\n      <td>Mon Apr 06 22:19:57 PDT 2009</td>\n      <td>NO_QUERY</td>\n      <td>ElleCTF</td>\n      <td>my whole body feels itchy and like its on fire</td>\n    </tr>\n    <tr>\n      <th>4</th>\n      <td>0</td>\n      <td>1467811193</td>\n      <td>Mon Apr 06 22:19:57 PDT 2009</td>\n      <td>NO_QUERY</td>\n      <td>Karoli</td>\n      <td>@nationwideclass no, it's not behaving at all....</td>\n    </tr>\n  </tbody>\n</table>\n</div>"
     },
     "execution_count": 112,
     "metadata": {},
     "output_type": "execute_result"
    }
   ],
   "source": [
    "df.head() # Prints the first 5 rows of the DataFrame to let us peek at the data."
   ],
   "metadata": {
    "collapsed": false,
    "ExecuteTime": {
     "end_time": "2024-02-14T19:47:28.918703Z",
     "start_time": "2024-02-14T19:47:28.864738700Z"
    }
   },
   "id": "38cddd108b766434"
  },
  {
   "cell_type": "markdown",
   "source": [
    "###### check how many classes we have in the data frame."
   ],
   "metadata": {
    "collapsed": false
   },
   "id": "bc6b1d8bfbf89e00"
  },
  {
   "cell_type": "code",
   "execution_count": 113,
   "outputs": [
    {
     "data": {
      "text/plain": "array([0, 4], dtype=int64)"
     },
     "execution_count": 113,
     "metadata": {},
     "output_type": "execute_result"
    }
   ],
   "source": [
    "df.target.unique()  #We have two classes in data frame."
   ],
   "metadata": {
    "collapsed": false,
    "ExecuteTime": {
     "end_time": "2024-02-14T19:47:31.719710500Z",
     "start_time": "2024-02-14T19:47:31.676735200Z"
    }
   },
   "id": "4286474f40e930be"
  },
  {
   "cell_type": "markdown",
   "source": [
    "###### We would like to see how many positive reviews there are and how many negative ones there are in the data frame."
   ],
   "metadata": {
    "collapsed": false
   },
   "id": "78c184e768b1971a"
  },
  {
   "cell_type": "code",
   "execution_count": 114,
   "outputs": [
    {
     "data": {
      "text/plain": "<Figure size 640x480 with 1 Axes>",
      "image/png": "[encoded data removed]"
     },
     "metadata": {},
     "output_type": "display_data"
    }
   ],
   "source": [
    "classes = df.target.unique() # Save the classes of the df.\n",
    "counts = [] # Empty list.\n",
    "\n",
    "\n",
    "for i in classes: # For one review in classes.\n",
    "  count = len(df[df.target==i]) # Check the \"len\" of the two classes.\n",
    "  counts.append(count) # Append the len of the two classes to \"counts\".\n",
    "\n",
    "\n",
    "plt.bar(['negative', 'positive'], counts) # Creating a bar graph of the number of reviews  of the different classes.\n",
    "plt.show()"
   ],
   "metadata": {
    "collapsed": false,
    "ExecuteTime": {
     "end_time": "2024-02-14T19:47:35.225994Z",
     "start_time": "2024-02-14T19:47:34.476457600Z"
    }
   },
   "id": "cf774545634b8a84"
  },
  {
   "cell_type": "markdown",
   "source": [
    "###### Split the data into training and testing datasets.\n",
    "\n"
   ],
   "metadata": {
    "collapsed": false
   },
   "id": "f02402a0a3b47241"
  },
  {
   "cell_type": "code",
   "execution_count": 115,
   "outputs": [],
   "source": [
    "\n",
    "x_text_column = df.text.values # Extract the 'text' column from the DataFrame as a numpy array called x. This contains the text data.\n",
    "y_target_column = df.target.values # Extract the 'target' column as a numpy array called y. This contains the labels\\classes.\n",
    " \n",
    "\n",
    "\n",
    "x_train, x_test, y_train, y_test = train_test_split(x_text_column, y_target_column, test_size=0.20, random_state=32) # Separates the text data and labels from the DataFrame, then splits them into standard train and test sets for modeling, with a 20% size test set.\n"
   ],
   "metadata": {
    "collapsed": false,
    "ExecuteTime": {
     "end_time": "2024-02-14T19:47:41.691372500Z",
     "start_time": "2024-02-14T19:47:39.481486500Z"
    }
   },
   "id": "b926a5d9253e8aa8"
  },
  {
   "cell_type": "markdown",
   "source": [
    "###### Vectorizing"
   ],
   "metadata": {
    "collapsed": false
   },
   "id": "340d97ba070adb7"
  },
  {
   "cell_type": "code",
   "execution_count": 116,
   "outputs": [],
   "source": [
    "vectorizer = CountVectorizer() # We will use this method \"Count-Vectorization\" for the Vectorizing.\n",
    "vectorizer.fit(x_train) # Separates the sentences in \"x_train\" into unique tokens/words.\n",
    "\n",
    "X_train = vectorizer.transform(x_train) # The command gives us a numerical feature vector for each tweet, each value being an index of each unique token.\n",
    "X_test = vectorizer.transform(x_test) # The same action."
   ],
   "metadata": {
    "collapsed": false,
    "ExecuteTime": {
     "end_time": "2024-02-14T19:48:38.734131500Z",
     "start_time": "2024-02-14T19:47:44.983110100Z"
    }
   },
   "id": "e16e65f8fee11177"
  },
  {
   "cell_type": "code",
   "execution_count": 117,
   "outputs": [
    {
     "name": "stdout",
     "output_type": "stream",
     "text": [
      "It was rainy and cloudy in the Windy City today &amp; WF customers had some serious SAD issues! I'm with them, when is summer coming?  \n",
      "   (0, 56126)\t1\n",
      "  (0, 57443)\t1\n",
      "  (0, 126950)\t1\n",
      "  (0, 129399)\t1\n",
      "  (0, 132544)\t1\n",
      "  (0, 142868)\t1\n",
      "  (0, 226851)\t1\n",
      "  (0, 251981)\t1\n",
      "  (0, 256885)\t1\n",
      "  (0, 257700)\t1\n",
      "  (0, 257841)\t1\n",
      "  (0, 433424)\t1\n",
      "  (0, 455284)\t1\n",
      "  (0, 467402)\t1\n",
      "  (0, 486023)\t1\n",
      "  (0, 501487)\t1\n",
      "  (0, 517082)\t1\n",
      "  (0, 519964)\t1\n",
      "  (0, 528707)\t1\n",
      "  (0, 558260)\t1\n",
      "  (0, 561897)\t1\n",
      "  (0, 562752)\t1\n",
      "  (0, 565913)\t1\n",
      "  (0, 566694)\t1\n"
     ]
    }
   ],
   "source": [
    "print(x_train[0], '\\n', X_train[0]) # An example on the first tweet of the \"Count-Vectorization\" process."
   ],
   "metadata": {
    "collapsed": false,
    "ExecuteTime": {
     "end_time": "2024-02-14T19:48:42.993089800Z",
     "start_time": "2024-02-14T19:48:42.940122200Z"
    }
   },
   "id": "af8374f60a64e50c"
  },
  {
   "cell_type": "markdown",
   "source": [
    "###### Clear the text"
   ],
   "metadata": {
    "collapsed": false
   },
   "id": "de01c553fb5501af"
  },
  {
   "cell_type": "code",
   "execution_count": 118,
   "outputs": [
    {
     "name": "stdout",
     "output_type": "stream",
     "text": [
      "It was rainy and cloudy in the Windy City today &amp; WF customers had some serious SAD issues! I'm with them, when is summer coming? \n",
      "It 257841\n",
      "was 558260\n",
      "rainy 433424\n",
      "and 57443\n",
      "cloudy 129399\n",
      "in 251981\n",
      "the 517082\n",
      "Windy 565913\n",
      "City 126950\n",
      "today 528707\n",
      "amp 56126\n",
      "WF 561897\n",
      "customers 142868\n",
      "had 226851\n",
      "some 486023\n",
      "serious 467402\n",
      "SAD 455284\n",
      "issues 257700\n",
      "with 566694\n",
      "them 519964\n",
      "when 562752\n",
      "is 256885\n",
      "summer 501487\n",
      "coming 132544\n"
     ]
    }
   ],
   "source": [
    "import re\n",
    "\n",
    "# delimiters https://stackoverflow.com/questions/35221535/python-removing-delimiters-from-strings\n",
    "d = \",.!?/&-:;@'...\"\n",
    "\"[\"+\"\\\\\".join(d)+\"]\"\n",
    "\n",
    "# clean up the string\n",
    "s = x_train[0]\n",
    "print(s)\n",
    "s = ' '.join(w for w in re.split(\"[\"+\"\\\\\".join(d)+\"]\", s) if w)\n",
    "\n",
    "for i in s.split():\n",
    "  if len(i)>1: print(i, vectorizer.vocabulary_[i.lower()])"
   ],
   "metadata": {
    "collapsed": false,
    "ExecuteTime": {
     "end_time": "2024-02-14T19:48:45.543055200Z",
     "start_time": "2024-02-14T19:48:45.504076500Z"
    }
   },
   "id": "b35f0d0f48afccc6"
  },
  {
   "cell_type": "markdown",
   "source": [
    "###### Modelling"
   ],
   "metadata": {
    "collapsed": false
   },
   "id": "f31bf3d959c8025d"
  },
  {
   "cell_type": "code",
   "execution_count": 119,
   "outputs": [
    {
     "name": "stdout",
     "output_type": "stream",
     "text": [
      "Accuracy: 0.79989375\n"
     ]
    }
   ],
   "source": [
    "classifier = LogisticRegression(max_iter=1000) # Building an object of the model.\n",
    "classifier.fit(X_train, y_train) # Model training.\n",
    "\n",
    "score = classifier.score(X_test, y_test) # Checking the accuracy of the model. where 1 indicates absolute accuracy and 0 indicates absolute inaccuracy.\n",
    "\n",
    "print(\"Accuracy:\", score)"
   ],
   "metadata": {
    "collapsed": false,
    "ExecuteTime": {
     "end_time": "2024-02-14T19:51:22.062240200Z",
     "start_time": "2024-02-14T19:48:53.769986800Z"
    }
   },
   "id": "144a4ed98f6156cd"
  },
  {
   "cell_type": "markdown",
   "source": [
    "###### Confussion matrix\n"
   ],
   "metadata": {
    "collapsed": false
   },
   "id": "88170c6e9efa47f7"
  },
  {
   "cell_type": "code",
   "execution_count": 226,
   "outputs": [
    {
     "data": {
      "text/plain": "        0       4\n0  126385   33936\n4   30098  129581",
      "text/html": "<div>\n<style scoped>\n    .dataframe tbody tr th:only-of-type {\n        vertical-align: middle;\n    }\n\n    .dataframe tbody tr th {\n        vertical-align: top;\n    }\n\n    .dataframe thead th {\n        text-align: right;\n    }\n</style>\n<table border=\"1\" class=\"dataframe\">\n  <thead>\n    <tr style=\"text-align: right;\">\n      <th></th>\n      <th>0</th>\n      <th>4</th>\n    </tr>\n  </thead>\n  <tbody>\n    <tr>\n      <th>0</th>\n      <td>126385</td>\n      <td>33936</td>\n    </tr>\n    <tr>\n      <th>4</th>\n      <td>30098</td>\n      <td>129581</td>\n    </tr>\n  </tbody>\n</table>\n</div>"
     },
     "execution_count": 226,
     "metadata": {},
     "output_type": "execute_result"
    }
   ],
   "source": [
    "y_pred = classifier.predict(X_test) # The predication function of the model, into which we will insert the test data.\n",
    "cm = confusion_matrix(y_test, y_pred, labels=df.target.unique()) # Building the Confessions Matrix.\n",
    "df_cm = pd.DataFrame(cm, index=df.target.unique(), columns=df.target.unique()) #Arrange the table with the correct classifications.\n",
    "df_cm"
   ],
   "metadata": {
    "collapsed": false,
    "ExecuteTime": {
     "end_time": "2024-02-14T21:05:42.357304600Z",
     "start_time": "2024-02-14T21:05:41.927573800Z"
    }
   },
   "id": "c5101d7612f5fd2d"
  },
  {
   "cell_type": "markdown",
   "source": [
    "###### Test"
   ],
   "metadata": {
    "collapsed": false
   },
   "id": "e4c40560a7ee7adb"
  },
  {
   "cell_type": "code",
   "execution_count": 121,
   "outputs": [
    {
     "name": "stdout",
     "output_type": "stream",
     "text": [
      "Tweet is positive\n"
     ]
    }
   ],
   "source": [
    "tweet = 'PATRIOTIC AMERICANS STAND PROUDLY WITH PRESIDENT TRUMP!!'\n",
    "vectTweet = vectorizer.transform(np.array([tweet]))  # vectorizes the tweet using our vectorizer\n",
    "\n",
    "prediction = classifier.predict(vectTweet)  # predicts class of the tweet\n",
    "print('Tweet is', 'positive' if prediction[0]==4 else 'negative')"
   ],
   "metadata": {
    "collapsed": false,
    "ExecuteTime": {
     "end_time": "2024-02-14T19:51:30.999654600Z",
     "start_time": "2024-02-14T19:51:30.951109400Z"
    }
   },
   "id": "9c657d3edfafe878"
  },
  {
   "cell_type": "code",
   "execution_count": 122,
   "outputs": [
    {
     "name": "stdout",
     "output_type": "stream",
     "text": [
      "Best tweet ever! | This tweet is positive\n",
      "Mondays are the worst... | This tweet is negative\n"
     ]
    }
   ],
   "source": [
    "tweetList = ['Best tweet ever!', 'Mondays are the worst...']\n",
    "vectTweet = vectorizer.transform(np.array(tweetList))  # vectorized the tweet using our vectorizer.\n",
    "\n",
    "prediction = classifier.predict(vectTweet)  # predicts class of the tweet\n",
    "for enum, i in enumerate(tweetList):\n",
    "  print(i, '| This tweet is', 'positive' if prediction[enum]==4 else 'negative')"
   ],
   "metadata": {
    "collapsed": false,
    "ExecuteTime": {
     "end_time": "2024-02-14T19:51:33.685802800Z",
     "start_time": "2024-02-14T19:51:33.638830400Z"
    }
   },
   "id": "33e1712890b8ea89"
  },
  {
   "cell_type": "markdown",
   "source": [
    "### Logistic Regression using python code"
   ],
   "metadata": {
    "collapsed": false
   },
   "id": "db2d7548df360408"
  },
  {
   "cell_type": "code",
   "execution_count": 123,
   "outputs": [],
   "source": [
    "def sigmoid(z): # The sigmoid provides an answer to classification problems, As in our problem if the passenger survived or not.\n",
    "        s = 1 / (1 + np.exp(-z)) \n",
    "        return s"
   ],
   "metadata": {
    "collapsed": false,
    "ExecuteTime": {
     "end_time": "2024-02-14T19:51:37.756290Z",
     "start_time": "2024-02-14T19:51:37.735187Z"
    }
   },
   "id": "796d4c0a4fd9494"
  },
  {
   "cell_type": "code",
   "execution_count": 222,
   "outputs": [],
   "source": [
    "class Logistic_Regression:\n",
    "    \n",
    "    \n",
    "    # X: order matrix (n * m)\n",
    "    # Y, A: Two-dimensional vector (1 * m)\n",
    "    # dw: Two-dimensional vector (n * 1)\n",
    "    # db: float\n",
    "    def propagate(self, X, Y):\n",
    "        m = X.shape[1] # Calculate the properties.\n",
    "        A = sigmoid(np.dot(self.w.T, X) + self.b) # The sigmoid calculation, its result will determine whether the person survived or not.\n",
    "        cost = (-1 / m) * np.sum(Y * np.log(A) + (1 - Y) * np.log(1 - A)) # The cost equation is a sum of our loss equation, when its result is smaller, the success of the model prediction is greater.\n",
    "        dw = (1 / m) * np.dot(X, (A - Y).T) # dw is for gradient descent.\n",
    "        db = (1 / m) * np.sum(A - Y) # db is for gradient descent.\n",
    "        return dw, db, cost\n",
    "    \n",
    "    \n",
    "    \n",
    "    \n",
    "    # x1: order matrix (m * n)\n",
    "    # y1: A one-dimensional vector (m)\n",
    "    # X: order matrix (n * m)\n",
    "    # Y: Two-dimensional vector (1 * m)\n",
    "    # w, dw: Two-dimensional vector (n * 1)\n",
    "    # b, db: float\n",
    "    def fit(self, x1, y1, num_iterations=1000, learning_rate=0.5):\n",
    "        X = x1.T # Change the order of the matrix from (m * n) to (n * m)\n",
    "        Y = y1.reshape(1, -1) # Change the dimension of the vector from (m) to (1 * m), One-dimension to Two-dimension\n",
    "        self.w = np.zeros((X.shape[0], 1)) # 'w' is an order vector (n * 1), that 'n' is the number of features.\n",
    "        self.b = 0 # 'b' is a variable of a kind 'flout'.\n",
    "        costs = [] # A list that will store the results of the cost equation.\n",
    "        for i in range(num_iterations + 1):\n",
    "            dw, db, cost = self.propagate(X, Y) # We send the 'X' and 'Y' to the 'propagate' function, aAnd the function will return values that will be stored in these variables.\n",
    "            self.w -= learning_rate * dw # For the purpose of gradient decent, from a variable 'w' we subtract the learning_rate and dw. \n",
    "            self.b -= learning_rate * db # For the purpose of gradient decent, from a variable 'b' we subtract the learning_rate and db. \n",
    "            if i % 100 == 0: # Every hundred iterations.\n",
    "                costs.append(cost) # We will add the cost result to the list of costs.\n",
    "                print('cost after itertion %i: %f' %(i, cost)) # We print the iteration number together with the cost result.  \n",
    "        return costs # The 'fit' function return the list of costs.\n",
    "    \n",
    "    \n",
    "    \n",
    "    # x1: order matrix (m * n)\n",
    "    # X: order matrix (n * m)\n",
    "    # Y, A: Two-dimensional vector (1 * m)\n",
    "    # w: Two-dimensional vector (n * 1)\n",
    "    def predict(self, x1): # Prediction function.\n",
    "        X = x1.T # Change the order of the matrix from (m * n) to (n * m)\n",
    "        # np.dot(1 * n, n * m) = (1 * m) \n",
    "        A = sigmoid(np.dot(self.w.T, X) + self.b) # The sigmoid calculation, its result will determine whether the person survived or not.\n",
    "        # np.where(1 * m)\n",
    "        Y_pred = np.where(A >= 0.5, 1, 0) # The function 'np.where' goes over the matrix A, and under the condition that if the value in the place is greater than 0.5 then we will classify as 1 and if the value in the place is less than 0.5 then we will classify as 0. 'Y_pred' is a matrix of the same order (1 * m), with values (0,1). \n",
    "        return Y_pred.reshape(-1) # The function 'Y_pred.reshape(-1)' changes the two-dimensional vector(matrix) For a one-dimensional vector.\n"
   ],
   "metadata": {
    "collapsed": false,
    "ExecuteTime": {
     "end_time": "2024-02-14T20:57:12.619120500Z",
     "start_time": "2024-02-14T20:57:12.578125700Z"
    }
   },
   "id": "f5ed0c0e7bde9045"
  },
  {
   "cell_type": "code",
   "execution_count": 223,
   "outputs": [],
   "source": [
    "clf2 = Logistic_Regression() # object of Logistic_Regression."
   ],
   "metadata": {
    "collapsed": false,
    "ExecuteTime": {
     "end_time": "2024-02-14T20:57:16.482490400Z",
     "start_time": "2024-02-14T20:57:16.456455200Z"
    }
   },
   "id": "7823945913da2948"
  },
  {
   "cell_type": "code",
   "execution_count": 224,
   "outputs": [
    {
     "name": "stdout",
     "output_type": "stream",
     "text": [
      "(1280000,)\n",
      "<class 'numpy.ndarray'>\n",
      "<class 'numpy.ndarray'>\n",
      "<class 'numpy.ndarray'>\n"
     ]
    },
    {
     "ename": "TypeError",
     "evalue": "can't multiply sequence by non-int of type 'float'",
     "output_type": "error",
     "traceback": [
      "\u001B[1;31m---------------------------------------------------------------------------\u001B[0m",
      "\u001B[1;31mTypeError\u001B[0m                                 Traceback (most recent call last)",
      "Cell \u001B[1;32mIn[224], line 1\u001B[0m\n\u001B[1;32m----> 1\u001B[0m costs \u001B[38;5;241m=\u001B[39m \u001B[43mclf2\u001B[49m\u001B[38;5;241;43m.\u001B[39;49m\u001B[43mfit\u001B[49m\u001B[43m(\u001B[49m\u001B[43mx_train\u001B[49m\u001B[43m,\u001B[49m\u001B[43my_train\u001B[49m\u001B[43m)\u001B[49m \u001B[38;5;66;03m# Training the model with 'x_train ' and 'y_train' data.\u001B[39;00m\n",
      "Cell \u001B[1;32mIn[222], line 37\u001B[0m, in \u001B[0;36mLogistic_Regression.fit\u001B[1;34m(self, x1, y1, num_iterations, learning_rate)\u001B[0m\n\u001B[0;32m     35\u001B[0m costs \u001B[38;5;241m=\u001B[39m [] \u001B[38;5;66;03m# A list that will store the results of the cost equation.\u001B[39;00m\n\u001B[0;32m     36\u001B[0m \u001B[38;5;28;01mfor\u001B[39;00m i \u001B[38;5;129;01min\u001B[39;00m \u001B[38;5;28mrange\u001B[39m(num_iterations \u001B[38;5;241m+\u001B[39m \u001B[38;5;241m1\u001B[39m):\n\u001B[1;32m---> 37\u001B[0m     dw, db, cost \u001B[38;5;241m=\u001B[39m \u001B[38;5;28;43mself\u001B[39;49m\u001B[38;5;241;43m.\u001B[39;49m\u001B[43mpropagate\u001B[49m\u001B[43m(\u001B[49m\u001B[43mX\u001B[49m\u001B[43m,\u001B[49m\u001B[43m \u001B[49m\u001B[43mY\u001B[49m\u001B[43m)\u001B[49m \u001B[38;5;66;03m# We send the 'X' and 'Y' to the 'propagate' function, aAnd the function will return values that will be stored in these variables.\u001B[39;00m\n\u001B[0;32m     38\u001B[0m     \u001B[38;5;28mself\u001B[39m\u001B[38;5;241m.\u001B[39mw \u001B[38;5;241m-\u001B[39m\u001B[38;5;241m=\u001B[39m learning_rate \u001B[38;5;241m*\u001B[39m dw \u001B[38;5;66;03m# For the purpose of gradient decent, from a variable 'w' we subtract the learning_rate and dw. \u001B[39;00m\n\u001B[0;32m     39\u001B[0m     \u001B[38;5;28mself\u001B[39m\u001B[38;5;241m.\u001B[39mb \u001B[38;5;241m-\u001B[39m\u001B[38;5;241m=\u001B[39m learning_rate \u001B[38;5;241m*\u001B[39m db \u001B[38;5;66;03m# For the purpose of gradient decent, from a variable 'b' we subtract the learning_rate and db. \u001B[39;00m\n",
      "Cell \u001B[1;32mIn[222], line 11\u001B[0m, in \u001B[0;36mLogistic_Regression.propagate\u001B[1;34m(self, X, Y)\u001B[0m\n\u001B[0;32m      9\u001B[0m m \u001B[38;5;241m=\u001B[39m X\u001B[38;5;241m.\u001B[39mshape[\u001B[38;5;241m0\u001B[39m] \u001B[38;5;66;03m# Calculate the properties.\u001B[39;00m\n\u001B[0;32m     10\u001B[0m \u001B[38;5;28mprint\u001B[39m(\u001B[38;5;28mtype\u001B[39m(X))\n\u001B[1;32m---> 11\u001B[0m A \u001B[38;5;241m=\u001B[39m sigmoid(\u001B[43mnp\u001B[49m\u001B[38;5;241;43m.\u001B[39;49m\u001B[43mdot\u001B[49m\u001B[43m(\u001B[49m\u001B[38;5;28;43mself\u001B[39;49m\u001B[38;5;241;43m.\u001B[39;49m\u001B[43mw\u001B[49m\u001B[38;5;241;43m.\u001B[39;49m\u001B[43mT\u001B[49m\u001B[43m,\u001B[49m\u001B[43m \u001B[49m\u001B[43mX\u001B[49m\u001B[43m)\u001B[49m \u001B[38;5;241m+\u001B[39m \u001B[38;5;28mself\u001B[39m\u001B[38;5;241m.\u001B[39mb) \u001B[38;5;66;03m# The sigmoid calculation, its result will determine whether the person survived or not.\u001B[39;00m\n\u001B[0;32m     12\u001B[0m cost \u001B[38;5;241m=\u001B[39m (\u001B[38;5;241m-\u001B[39m\u001B[38;5;241m1\u001B[39m \u001B[38;5;241m/\u001B[39m m) \u001B[38;5;241m*\u001B[39m np\u001B[38;5;241m.\u001B[39msum(Y \u001B[38;5;241m*\u001B[39m np\u001B[38;5;241m.\u001B[39mlog(A) \u001B[38;5;241m+\u001B[39m (\u001B[38;5;241m1\u001B[39m \u001B[38;5;241m-\u001B[39m Y) \u001B[38;5;241m*\u001B[39m np\u001B[38;5;241m.\u001B[39mlog(\u001B[38;5;241m1\u001B[39m \u001B[38;5;241m-\u001B[39m A)) \u001B[38;5;66;03m# The cost equation is a sum of our loss equation, when its result is smaller, the success of the model prediction is greater.\u001B[39;00m\n\u001B[0;32m     13\u001B[0m dw \u001B[38;5;241m=\u001B[39m (\u001B[38;5;241m1\u001B[39m \u001B[38;5;241m/\u001B[39m m) \u001B[38;5;241m*\u001B[39m np\u001B[38;5;241m.\u001B[39mdot(X, (A \u001B[38;5;241m-\u001B[39m Y)\u001B[38;5;241m.\u001B[39mT) \u001B[38;5;66;03m# dw is for gradient descent.\u001B[39;00m\n",
      "\u001B[1;31mTypeError\u001B[0m: can't multiply sequence by non-int of type 'float'"
     ]
    }
   ],
   "source": [
    "costs = clf2.fit(x_train,y_train) # Training the model with 'x_train ' and 'y_train' data."
   ],
   "metadata": {
    "collapsed": false,
    "ExecuteTime": {
     "end_time": "2024-02-14T20:57:18.799150500Z",
     "start_time": "2024-02-14T20:57:18.641248700Z"
    }
   },
   "id": "a4181ce9b4d89f1c"
  },
  {
   "cell_type": "code",
   "execution_count": 156,
   "outputs": [
    {
     "ename": "NameError",
     "evalue": "name 'costs' is not defined",
     "output_type": "error",
     "traceback": [
      "\u001B[1;31m---------------------------------------------------------------------------\u001B[0m",
      "\u001B[1;31mNameError\u001B[0m                                 Traceback (most recent call last)",
      "Cell \u001B[1;32mIn[156], line 1\u001B[0m\n\u001B[1;32m----> 1\u001B[0m plt\u001B[38;5;241m.\u001B[39mplot(\u001B[43mcosts\u001B[49m)\n\u001B[0;32m      2\u001B[0m plt\u001B[38;5;241m.\u001B[39mylabel(\u001B[38;5;124m'\u001B[39m\u001B[38;5;124mcost\u001B[39m\u001B[38;5;124m'\u001B[39m)\n\u001B[0;32m      3\u001B[0m plt\u001B[38;5;241m.\u001B[39mxlabel(\u001B[38;5;124m'\u001B[39m\u001B[38;5;124miterations (per hundred)\u001B[39m\u001B[38;5;124m'\u001B[39m)\n",
      "\u001B[1;31mNameError\u001B[0m: name 'costs' is not defined"
     ]
    }
   ],
   "source": [
    "plt.plot(costs)\n",
    "plt.ylabel('cost')\n",
    "plt.xlabel('iterations (per hundred)')\n",
    "plt.show()\n",
    "# Now we can see in the graph the learning rate of the model, according to 100 iterations each time.\n",
    "#You can see that at the beginning the numbers are high, which means the model fails to predict the results well, but after a few hundred iterations we see low numbers in the results, which show that the model is successful in predicting the results in the best way."
   ],
   "metadata": {
    "collapsed": false,
    "ExecuteTime": {
     "end_time": "2024-02-14T20:07:06.525770500Z",
     "start_time": "2024-02-14T20:07:06.477803Z"
    }
   },
   "id": "9d3d4e1824a2dfbd"
  },
  {
   "cell_type": "code",
   "execution_count": null,
   "outputs": [],
   "source": [
    "pred3 = clf2.predict(x_train) # Making a prediction on the 'x_train' data.\n",
    "print(classification_report(y_train, pred3, digits=4)) # Performance review vs y_train."
   ],
   "metadata": {
    "collapsed": false
   },
   "id": "397f65e28dcd4370"
  },
  {
   "cell_type": "code",
   "execution_count": null,
   "outputs": [],
   "source": [
    "pred3 = clf2.predict(x_test) # Making a prediction on the 'x_test' data.\n",
    "print(classification_report(y_test, pred3, digits=4)) # Performance review vs y_test."
   ],
   "metadata": {
    "collapsed": false
   },
   "id": "c5656816e28570af"
  },
  {
   "cell_type": "markdown",
   "source": [
    "### Confussion matrix between clf to clf2 on data set"
   ],
   "metadata": {
    "collapsed": false
   },
   "id": "2555233d5e3d5b5"
  },
  {
   "cell_type": "code",
   "execution_count": null,
   "outputs": [],
   "source": [
    "pred_clf = prediction.predict(x_test) # Making a prediction on the data set.\n",
    "cm = confusion_matrix(y_test, pred_clf) # Making a confusion_matrix on the data set.\n",
    "\n",
    "pred_clf2 = clf2.predict(x_test) # Making a prediction on the data set.\n",
    "cm2 = confusion_matrix(y_test, pred_clf2) # Making a confusion_matrix on the data set.\n",
    "\n",
    "classes = [\"did not survive\", \"survived\"]\n",
    "\n",
    "plt.figure(figsize=(10, 5))\n",
    "\n",
    "plt.subplot(1, 2, 1)\n",
    "sns.heatmap(cm, annot=True, fmt=\"d\", cmap=\"Blues\", xticklabels=classes, yticklabels=classes)\n",
    "plt.title(\"Confusion Matrix for clf\")\n",
    "\n",
    "plt.subplot(1, 2, 2)\n",
    "sns.heatmap(cm2, annot=True, fmt=\"d\", cmap=\"Blues\", xticklabels=classes, yticklabels=classes)\n",
    "plt.title(\"Confusion Matrix for clf2\")\n",
    "\n",
    "plt.tight_layout()\n",
    "plt.show()"
   ],
   "metadata": {
    "collapsed": false
   },
   "id": "4fac12bbca9032b0"
  }
 ],
 "metadata": {
  "kernelspec": {
   "display_name": "Python 3",
   "language": "python",
   "name": "python3"
  },
  "language_info": {
   "codemirror_mode": {
    "name": "ipython",
    "version": 2
   },
   "file_extension": ".py",
   "mimetype": "text/x-python",
   "name": "python",
   "nbconvert_exporter": "python",
   "pygments_lexer": "ipython2",
   "version": "2.7.6"
  }
 },
 "nbformat": 4,
 "nbformat_minor": 5
}
